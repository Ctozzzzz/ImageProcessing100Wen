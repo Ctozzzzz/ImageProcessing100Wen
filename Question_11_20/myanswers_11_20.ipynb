{
 "cells": [
  {
   "cell_type": "code",
   "execution_count": 1,
   "metadata": {},
   "outputs": [
    {
     "name": "stderr",
     "output_type": "stream",
     "text": [
      "/home/zuochenyu/anaconda3/lib/python3.7/site-packages/ipykernel_launcher.py:17: DeprecationWarning: `np.float` is a deprecated alias for the builtin `float`. To silence this warning, use `float` by itself. Doing this will not modify any behavior and is safe. If you specifically wanted the numpy scalar type, use `np.float64` here.\n",
      "Deprecated in NumPy 1.20; for more details and guidance: https://numpy.org/devdocs/release/1.20.0-notes.html#deprecations\n"
     ]
    },
    {
     "data": {
      "text/plain": [
       "True"
      ]
     },
     "execution_count": 1,
     "metadata": {},
     "output_type": "execute_result"
    }
   ],
   "source": [
    "# 11 均值滤波器\n",
    "import cv2\n",
    "import numpy as np\n",
    "\n",
    "def mean_filter(img, K_size=3):\n",
    "    # 确保是三通道的图片输入\n",
    "    # np.expand_dims在第axis维，加一个维度，原有的维度推到右边去\n",
    "    if len(img.shape) == 3 :\n",
    "        H, W, C = img.shape\n",
    "    else:\n",
    "        img = np.expand_dims(img, axis=-1)\n",
    "        H, W, C = img.shape\n",
    "\n",
    "    ## Zero padding\n",
    "    #H W 两侧都补零\n",
    "    pad = K_size // 2\n",
    "    out = np.zeros((H + pad*2, W + pad*2, C), dtype=np.float)\n",
    "    out[pad: pad + H, pad: pad + W] = img.copy().astype(np.float32)\n",
    "\n",
    "    ## 进行滤波；卷积操作\n",
    "    tmp = out.copy()\n",
    "    for y in range(H):\n",
    "        for x in range(W):\n",
    "            for c in range(C):\n",
    "                out[pad+y, pad+x, c] = np.mean(tmp[y: y + K_size, x: x + K_size, c ])\n",
    "\n",
    "    ## 格式处理\n",
    "    # out = np.clip(out, 0, 255) # 没有进行卷积操作，不用Clip\n",
    "    out = out[pad: pad + H, pad: pad + W].astype(np.uint8)\n",
    "\n",
    "    return out\n",
    "\n",
    "img = cv2.imread(\"imori.jpg\")\n",
    "\n",
    "out = mean_filter(img, K_size=3)\n",
    "\n",
    "cv2.imwrite(\"myanswers/out_11.jpg\",out)"
   ]
  },
  {
   "cell_type": "code",
   "execution_count": 2,
   "metadata": {},
   "outputs": [
    {
     "name": "stderr",
     "output_type": "stream",
     "text": [
      "/home/zuochenyu/anaconda3/lib/python3.7/site-packages/ipykernel_launcher.py:24: DeprecationWarning: `np.float` is a deprecated alias for the builtin `float`. To silence this warning, use `float` by itself. Doing this will not modify any behavior and is safe. If you specifically wanted the numpy scalar type, use `np.float64` here.\n",
      "Deprecated in NumPy 1.20; for more details and guidance: https://numpy.org/devdocs/release/1.20.0-notes.html#deprecations\n"
     ]
    },
    {
     "data": {
      "text/plain": [
       "True"
      ]
     },
     "execution_count": 2,
     "metadata": {},
     "output_type": "execute_result"
    }
   ],
   "source": [
    "#12 Motion Filter\n",
    "#对角线像素的平均值\n",
    "import cv2\n",
    "import numpy as np\n",
    "\n",
    "def motion_filter(img, K_size=3):\n",
    "    # 确保是三通道的图片输入\n",
    "    # np.expand_dims在第axis维，加一个维度，原有的维度推到右边去\n",
    "    if len(img.shape) == 3 :\n",
    "        H, W, C = img.shape\n",
    "    else:\n",
    "        img = np.expand_dims(img, axis=-1)\n",
    "        H, W, C = img.shape\n",
    "\n",
    "    ## Kernel\n",
    "    #因为是取对角线的像素的平均值\n",
    "    K = np.diag( [1] * K_size).astype(np.float32)\n",
    "    K /= K_size\n",
    "\n",
    "\n",
    "    ## Zero padding\n",
    "    #H W 两侧都补零\n",
    "    pad = K_size // 2\n",
    "    out = np.zeros((H + pad*2, W + pad*2, C), dtype=np.float)\n",
    "    out[pad: pad + H, pad: pad + W] = img.copy().astype(np.float32)\n",
    "\n",
    "    ## 进行滤波；卷积操作\n",
    "    tmp = out.copy()\n",
    "    for y in range(H):\n",
    "        for x in range(W):\n",
    "            for c in range(C):\n",
    "                out[pad+y, pad+x, c] = np.sum(K*tmp[y: y + K_size, x: x + K_size, c ])\n",
    "\n",
    "    ## 格式处理\n",
    "    # out = np.clip(out, 0, 255) # 没有进行卷积操作，不用Clip\n",
    "    out = out[pad: pad + H, pad: pad + W].astype(np.uint8)\n",
    "\n",
    "    return out\n",
    "\n",
    "img = cv2.imread(\"imori.jpg\")\n",
    "\n",
    "out = motion_filter(img, K_size=3)\n",
    "\n",
    "cv2.imwrite(\"myanswers/out_12.jpg\",out)\n"
   ]
  }
 ],
 "metadata": {
  "interpreter": {
   "hash": "0534df05fd8895074176b92003b5dc23ce8b16c8c8ea8799f0825d1cf0f20aa9"
  },
  "kernelspec": {
   "display_name": "Python 3.7.2 64-bit ('base': conda)",
   "language": "python",
   "name": "python3"
  },
  "language_info": {
   "codemirror_mode": {
    "name": "ipython",
    "version": 3
   },
   "file_extension": ".py",
   "mimetype": "text/x-python",
   "name": "python",
   "nbconvert_exporter": "python",
   "pygments_lexer": "ipython3",
   "version": "3.7.2"
  },
  "orig_nbformat": 4
 },
 "nbformat": 4,
 "nbformat_minor": 2
}

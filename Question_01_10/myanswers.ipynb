{
 "cells": [
  {
   "cell_type": "code",
   "execution_count": 33,
   "metadata": {},
   "outputs": [
    {
     "data": {
      "text/plain": [
       "True"
      ]
     },
     "execution_count": 33,
     "metadata": {},
     "output_type": "execute_result"
    }
   ],
   "source": [
    "#01 RGB\n",
    "import cv2\n",
    "\n",
    "def BGR2RGB(img):\n",
    "    r = img[:, :, 2].copy()\n",
    "    g = img[:, :, 1].copy()\n",
    "    b = img[:, :, 0].copy()\n",
    "\n",
    "    img[:,:,0] = r\n",
    "    img[:,:,1] = g\n",
    "    img[:,:,2] = b\n",
    "\n",
    "    return img\n",
    "\n",
    "img = cv2.imread(\"imori.jpg\")\n",
    "img = BGR2RGB(img)\n",
    "\n",
    "# Save result\n",
    "cv2.imwrite(\"myanswers_py/out_01.jpg\", img)\n",
    "# cv2.imshow(\"result\", img)\n",
    "# cv2.waitKey(0)\n",
    "# cv2.destroyAllWindows()"
   ]
  },
  {
   "cell_type": "code",
   "execution_count": 34,
   "metadata": {},
   "outputs": [
    {
     "data": {
      "text/plain": [
       "True"
      ]
     },
     "execution_count": 34,
     "metadata": {},
     "output_type": "execute_result"
    }
   ],
   "source": [
    "#02 GrayScale\n",
    "import cv2\n",
    "import numpy as np\n",
    "\n",
    "# astype 类型转换\n",
    "def grayscale(img):\n",
    "    b = img[:,:,0].copy()\n",
    "    g = img[:,:,1].copy()\n",
    "    r = img[:,:,2].copy()\n",
    "\n",
    "    y = 0.2126*r + 0.7152*g + 0.0722*b #浮点运算，读取Img时转换成浮点类型\n",
    "\n",
    "    y = y.astype(np.uint8)\n",
    "\n",
    "    return y\n",
    "\n",
    "img = cv2.imread(\"imori.jpg\")\n",
    "gray = grayscale(img)\n",
    "cv2.imwrite(\"myanswers_py/out_02.jpg\",gray)\n"
   ]
  },
  {
   "cell_type": "code",
   "execution_count": 35,
   "metadata": {},
   "outputs": [
    {
     "data": {
      "text/plain": [
       "True"
      ]
     },
     "execution_count": 35,
     "metadata": {},
     "output_type": "execute_result"
    }
   ],
   "source": [
    "#03 Binarization\n",
    "import cv2\n",
    "import numpy as np\n",
    "\n",
    "# 二值化\n",
    "def binarization(img,th=128):\n",
    "    img[img < th] = 0\n",
    "    img[img >= th ] = 255\n",
    "    return img \n",
    "\n",
    "img = cv2.imread(\"myanswers_py/out_02.jpg\")\n",
    "t = binarization(img,th=128)\n",
    "cv2.imwrite(\"myanswers_py/out_03.jpg\",t)\n"
   ]
  },
  {
   "cell_type": "code",
   "execution_count": 36,
   "metadata": {},
   "outputs": [
    {
     "name": "stdout",
     "output_type": "stream",
     "text": [
      "threshold >> 127\n"
     ]
    },
    {
     "data": {
      "text/plain": [
       "True"
      ]
     },
     "execution_count": 36,
     "metadata": {},
     "output_type": "execute_result"
    }
   ],
   "source": [
    "#04 Otsu's Method\n",
    "import cv2\n",
    "import numpy as np\n",
    "\n",
    "def otsu_binarization(gray_img):\n",
    "    #最大类间方差算法\n",
    "    max_t = 0\n",
    "    max_sigma = 0\n",
    "    H,W,_ = gray_img.shape\n",
    "\n",
    "    for _t in range(1, 255):\n",
    "        c0 = gray_img[np.where(gray_img < _t)]\n",
    "        c1 = gray_img[np.where(gray_img >= _t)]\n",
    "\n",
    "        w0 = len(c0)/(H*W)\n",
    "        w1 = len(c1)/(H*W)\n",
    "\n",
    "        m0 = np.mean(c0) if len(c0) > 0 else 0\n",
    "        m1 = np.mean(c1) if len(c1) > 0 else 0\n",
    "\n",
    "        sigma = w0*w1 *((m0-m1)**2)\n",
    "        if sigma > max_sigma:\n",
    "            max_sigma = sigma\n",
    "            max_t = _t\n",
    "\n",
    "    print(\"threshold >>\", max_t)\n",
    "    th = max_t\n",
    "    gray_img[gray_img < th] = 0\n",
    "    gray_img[gray_img >= th] = 255\n",
    "\n",
    "    return gray_img\n",
    "\n",
    "img = cv2.imread(\"myanswers_py/out_02.jpg\")\n",
    "out = otsu_binarization(img)\n",
    "cv2.imwrite(\"myanswers_py/out_04.jpg\",out)\n",
    "\n"
   ]
  },
  {
   "cell_type": "code",
   "execution_count": 37,
   "metadata": {},
   "outputs": [
    {
     "data": {
      "text/plain": [
       "True"
      ]
     },
     "execution_count": 37,
     "metadata": {},
     "output_type": "execute_result"
    }
   ],
   "source": [
    "#05 HSV变换\n",
    "import cv2 \n",
    "import numpy as np\n",
    "\n",
    "def BGR2HSV(_img):\n",
    "    #RGB的取值范围为0到1\n",
    "    img = _img.copy() / 255.\n",
    "\n",
    "    hsv = np.zeros_like(img,dtype = np.float32)\n",
    "\n",
    "    #取RGB中最大的,min_arg找到最小的那一维\n",
    "    max_v = np.max(img, axis=2).copy()\n",
    "    min_v = np.min(img, axis=2).copy()\n",
    "    min_arg = np.argmin(img, axis=2)\n",
    "\n",
    "    #H\n",
    "    hsv[...,0][np.where(max_v == min_v)] = 0\n",
    "    ## Min=B\n",
    "    #np.where返回满足条件的坐标\n",
    "    ind = np.where(min_arg == 0)\n",
    "    hsv[...,0][ind] = 60 * (img[...,1][ind]-img[...,2][ind]) / (max_v[ind]-min_v[ind]) + 60\n",
    "    ## Min=R\n",
    "    ind = np.where(min_arg == 2)\n",
    "    hsv[...,0][ind] = 60 * (img[...,0][ind]-img[...,1][ind]) / (max_v[ind]-min_v[ind]) + 180\n",
    "    ## Min=G\n",
    "    ind = np.where(min_arg == 1)\n",
    "    hsv[...,0][ind] = 60 * (img[...,2][ind]-img[...,0][ind]) / (max_v[ind]-min_v[ind]) + 300\n",
    "\n",
    "    #S\n",
    "    hsv[...,1] = max_v.copy() - min_v.copy()\n",
    "\n",
    "    #V\n",
    "    hsv[...,2] = max_v.copy()\n",
    "\n",
    "    return hsv\n",
    "\n",
    "def HSV2BGR(_img,hsv):\n",
    "    img =_img.copy() / 255.\n",
    "\n",
    "    max_v = np.max(img, axis=2).copy()\n",
    "    min_v = np.min(img, axis =2).copy()\n",
    "\n",
    "    out = np.zeros_like(img)\n",
    "\n",
    "    H = hsv[...,0]\n",
    "    S = hsv[...,1]\n",
    "    V = hsv[...,2]\n",
    "   \n",
    "    C = S\n",
    "    H_ = H / 60.\n",
    "    X = C * (1 - np.abs( H_ % 2 - 1))\n",
    "    Z = np.zeros_like(H)\n",
    "\n",
    "    vals = [[Z,X,C], [Z,C,X], [X,C,Z], [C,X,Z], [C,Z,X], [X,Z,C]]\n",
    "\n",
    "    for i in range(6):\n",
    "        ind = np.where((i <= H_) & (H_ < (i+1)))\n",
    "        out[...,0][ind] = (V - C)[ind] + vals[i][0][ind]\n",
    "        out[...,1][ind] = (V - C)[ind] + vals[i][1][ind]\n",
    "        out[...,2][ind] = (V - C)[ind] + vals[i][2][ind]\n",
    "    out[np.where(max_v == min_v)] = 0\n",
    "    out = np.clip(out, 0 , 1)\n",
    "    out = (out * 255).astype(np.uint8)\n",
    "\n",
    "    return out\n",
    "\n",
    "img = cv2.imread(\"imori.jpg\").astype(np.float32)\n",
    "\n",
    "# RGB > HSV\n",
    "hsv = BGR2HSV(img)\n",
    "\n",
    "# 将色相反转，再用RGB\n",
    "# Transpose Hue\n",
    "hsv[..., 0] = (hsv[..., 0] + 180) % 360\n",
    "\n",
    "# HSV > RGB\n",
    "out = HSV2BGR(img, hsv)\n",
    "\n",
    "# Save result\n",
    "cv2.imwrite(\"myanswers_py/out_05.jpg\", out)"
   ]
  },
  {
   "cell_type": "code",
   "execution_count": 38,
   "metadata": {},
   "outputs": [
    {
     "data": {
      "text/plain": [
       "True"
      ]
     },
     "execution_count": 38,
     "metadata": {},
     "output_type": "execute_result"
    }
   ],
   "source": [
    "#06 减色处理\n",
    "#色彩量化\n",
    "import cv2\n",
    "import numpy as np\n",
    "\n",
    "def decrease_color(img):\n",
    "    out = img.copy()\n",
    "    out = out//64 * 64 + 32\n",
    "    \n",
    "    return out\n",
    "\n",
    "img = cv2.imread(\"imori.jpg\").astype(np.uint8)\n",
    "out = decrease_color(img)\n",
    "cv2.imwrite(\"myanswers_py/out_06.jpg\",out)"
   ]
  },
  {
   "cell_type": "code",
   "execution_count": 39,
   "metadata": {},
   "outputs": [
    {
     "data": {
      "text/plain": [
       "True"
      ]
     },
     "execution_count": 39,
     "metadata": {},
     "output_type": "execute_result"
    }
   ],
   "source": [
    "#07 平均池化\n",
    "#按照固定大小分割，网格内取像素平均值\n",
    "import cv2\n",
    "import numpy as np\n",
    "\n",
    "def average_pooling(img, G=8):\n",
    "    out = img.copy()\n",
    "    H,W,C = img.shape\n",
    "\n",
    "    Nh = int(H / G)\n",
    "    Nw = int(W / G)\n",
    "\n",
    "    for y in range(Nh):\n",
    "        for x in range(Nw):\n",
    "            for c in range(C):\n",
    "                out[G*y:G*(y+1) , G*x:G*(x+1) , c] = np.mean(out[G*y:G*(y+1) , G*x:G*(x+1) , c]).astype(int)\n",
    "\n",
    "    return out\n",
    "\n",
    "img = cv2.imread(\"imori.jpg\")\n",
    "out = average_pooling(img)\n",
    "\n",
    "cv2.imwrite(\"myanswers_py/out_07.jpg\",out)"
   ]
  },
  {
   "cell_type": "code",
   "execution_count": 40,
   "metadata": {},
   "outputs": [
    {
     "data": {
      "text/plain": [
       "True"
      ]
     },
     "execution_count": 40,
     "metadata": {},
     "output_type": "execute_result"
    }
   ],
   "source": [
    "#08 最大池化\n",
    "import cv2\n",
    "import numpy as np\n",
    "\n",
    "def max_pooling(img, G=8):\n",
    "    out = img.copy()\n",
    "    H,W,C = img.shape\n",
    "\n",
    "    Nh = int(H / G)\n",
    "    Nw = int(W / G)\n",
    "\n",
    "    for y in range(Nh):\n",
    "        for x in range(Nw):\n",
    "            for c in range(C):\n",
    "                out[G*y:G*(y+1) , G*x:G*(x+1) , c] = np.max(out[G*y:G*(y+1) , G*x:G*(x+1) , c]).astype(int)\n",
    "\n",
    "    return out\n",
    "\n",
    "img = cv2.imread(\"imori.jpg\")\n",
    "out = max_pooling(img)\n",
    "\n",
    "cv2.imwrite(\"myanswers_py/out_08.jpg\",out)"
   ]
  },
  {
   "cell_type": "code",
   "execution_count": 41,
   "metadata": {},
   "outputs": [
    {
     "name": "stderr",
     "output_type": "stream",
     "text": [
      "/home/zuochenyu/anaconda3/lib/python3.7/site-packages/ipykernel_launcher.py:17: DeprecationWarning: `np.float` is a deprecated alias for the builtin `float`. To silence this warning, use `float` by itself. Doing this will not modify any behavior and is safe. If you specifically wanted the numpy scalar type, use `np.float64` here.\n",
      "Deprecated in NumPy 1.20; for more details and guidance: https://numpy.org/devdocs/release/1.20.0-notes.html#deprecations\n"
     ]
    },
    {
     "data": {
      "text/plain": [
       "True"
      ]
     },
     "execution_count": 41,
     "metadata": {},
     "output_type": "execute_result"
    }
   ],
   "source": [
    "#09 高斯滤波\n",
    "import cv2\n",
    "import numpy as np\n",
    "\n",
    "def gaussian_filter(img, K_size=3, sigma=1.3):\n",
    "    # 确保是三通道的图片输入\n",
    "    # np.expand_dims在第axis维，加一个维度，原有的维度推到右边去\n",
    "    if len(img.shape) == 3 :\n",
    "        H, W, C = img.shape\n",
    "    else:\n",
    "        img = np.expand_dims(img, axis=-1)\n",
    "        H, W, C = img.shape\n",
    "\n",
    "    ## Zero padding\n",
    "    #H W 两侧都补零\n",
    "    pad = K_size // 2\n",
    "    out = np.zeros((H + pad*2, W + pad*2, C), dtype=np.float)\n",
    "    out[pad: pad + H, pad: pad + W] = img.copy().astype(np.float32)\n",
    "\n",
    "    ## 计算卷积核Kernel\n",
    "    # 根据公式，并进行归一化操作\n",
    "    # zeros 和 zeros_like的区别\n",
    "    K = np.zeros((K_size, K_size) , dtype=np.float32)\n",
    "    for y in range(-pad , -pad + K_size):\n",
    "        for x in range(-pad , -pad + K_size):\n",
    "                K [x + pad, y + pad] = np.exp( -(x**2 + y**2) / (2*sigma*sigma))\n",
    "    K /= (2 * np.pi * sigma * sigma)\n",
    "    K /= K.sum()\n",
    "\n",
    "    ## 进行滤波；卷积操作\n",
    "    tmp = out.copy()\n",
    "    for y in range(H):\n",
    "        for x in range(W):\n",
    "            for c in range(C):\n",
    "                out[pad+y, pad+x, c] = np.sum(K * tmp[y: y + K_size, x: x + K_size, c ])\n",
    "\n",
    "    ## 格式处理\n",
    "    out = np.clip(out, 0, 255)\n",
    "    out = out[pad: pad + H, pad: pad + W].astype(np.uint8)\n",
    "\n",
    "    return out\n",
    "\n",
    "img = cv2.imread(\"imori_noise.jpg\")\n",
    "\n",
    "out = gaussian_filter(img, K_size=3, sigma=1.3)\n",
    "\n",
    "cv2.imwrite(\"myanswers_py/out_09.jpg\",out)\n"
   ]
  },
  {
   "cell_type": "markdown",
   "metadata": {},
   "source": [
    "np.zeros_like & np.zeros\n",
    "Modern OS allocate memory virtually, ie., memory is given to a process only when it is first used. zeros obtains memory from the operating system so that the OS zeroes it when it is first used. zeros_like on the other hand fills the alloced memory with zeros by itself. Both ways require about same amount of work --- it's just that with zeros_like the zeroing is done upfront, whereas zeros ends up doing it on the fly.\n",
    "之前报错zeros_like维度不对？\n",
    "zeros_like 输出与输入数组一样大小的数组"
   ]
  },
  {
   "cell_type": "code",
   "execution_count": 43,
   "metadata": {},
   "outputs": [
    {
     "name": "stderr",
     "output_type": "stream",
     "text": [
      "/home/zuochenyu/anaconda3/lib/python3.7/site-packages/ipykernel_launcher.py:17: DeprecationWarning: `np.float` is a deprecated alias for the builtin `float`. To silence this warning, use `float` by itself. Doing this will not modify any behavior and is safe. If you specifically wanted the numpy scalar type, use `np.float64` here.\n",
      "Deprecated in NumPy 1.20; for more details and guidance: https://numpy.org/devdocs/release/1.20.0-notes.html#deprecations\n"
     ]
    },
    {
     "data": {
      "text/plain": [
       "True"
      ]
     },
     "execution_count": 43,
     "metadata": {},
     "output_type": "execute_result"
    }
   ],
   "source": [
    "#10 中值滤波\n",
    "import cv2\n",
    "import numpy as np\n",
    "\n",
    "def median_filter(img, K_size=3):\n",
    "    # 确保是三通道的图片输入\n",
    "    # np.expand_dims在第axis维，加一个维度，原有的维度推到右边去\n",
    "    if len(img.shape) == 3 :\n",
    "        H, W, C = img.shape\n",
    "    else:\n",
    "        img = np.expand_dims(img, axis=-1)\n",
    "        H, W, C = img.shape\n",
    "\n",
    "    ## Zero padding\n",
    "    #H W 两侧都补零\n",
    "    pad = K_size // 2\n",
    "    out = np.zeros((H + pad*2, W + pad*2, C), dtype=np.float)\n",
    "    out[pad: pad + H, pad: pad + W] = img.copy().astype(np.float32)\n",
    "\n",
    "    ## 进行滤波；卷积操作\n",
    "    tmp = out.copy()\n",
    "    for y in range(H):\n",
    "        for x in range(W):\n",
    "            for c in range(C):\n",
    "                out[pad+y, pad+x, c] = np.median(tmp[y: y + K_size, x: x + K_size, c ])\n",
    "\n",
    "    ## 格式处理\n",
    "    # out = np.clip(out, 0, 255) # 没有进行卷积操作，不用Clip\n",
    "    out = out[pad: pad + H, pad: pad + W].astype(np.uint8)\n",
    "\n",
    "    return out\n",
    "\n",
    "img = cv2.imread(\"imori_noise.jpg\")\n",
    "\n",
    "out = median_filter(img, K_size=3)\n",
    "\n",
    "cv2.imwrite(\"myanswers_py/out_10.jpg\",out)\n"
   ]
  }
 ],
 "metadata": {
  "interpreter": {
   "hash": "a02fc57d4bb34e54cb9d8bcb11aaa4ee4841d81f90f60f7211ebef67eb3f22c7"
  },
  "kernelspec": {
   "display_name": "Python 3.6.13 64-bit ('torch': conda)",
   "language": "python",
   "name": "python3"
  },
  "language_info": {
   "codemirror_mode": {
    "name": "ipython",
    "version": 3
   },
   "file_extension": ".py",
   "mimetype": "text/x-python",
   "name": "python",
   "nbconvert_exporter": "python",
   "pygments_lexer": "ipython3",
   "version": "3.7.2"
  },
  "orig_nbformat": 4
 },
 "nbformat": 4,
 "nbformat_minor": 2
}

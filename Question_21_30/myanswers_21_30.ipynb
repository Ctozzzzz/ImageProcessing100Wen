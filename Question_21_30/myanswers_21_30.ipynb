{
 "cells": [
  {
   "cell_type": "code",
   "execution_count": 2,
   "metadata": {},
   "outputs": [
    {
     "name": "stderr",
     "output_type": "stream",
     "text": [
      "/home/zuochenyu/anaconda3/lib/python3.7/site-packages/ipykernel_launcher.py:22: DeprecationWarning: `np.float` is a deprecated alias for the builtin `float`. To silence this warning, use `float` by itself. Doing this will not modify any behavior and is safe. If you specifically wanted the numpy scalar type, use `np.float64` here.\n",
      "Deprecated in NumPy 1.20; for more details and guidance: https://numpy.org/devdocs/release/1.20.0-notes.html#deprecations\n"
     ]
    },
    {
     "data": {
      "image/png": "[encoded data removed]",
      "text/plain": [
       "<Figure size 432x288 with 1 Axes>"
      ]
     },
     "metadata": {
      "needs_background": "light"
     },
     "output_type": "display_data"
    },
    {
     "data": {
      "text/plain": [
       "True"
      ]
     },
     "execution_count": 2,
     "metadata": {},
     "output_type": "execute_result"
    }
   ],
   "source": [
    "#21 直方图归一化\n",
    "#灰度变换 \n",
    "import cv2\n",
    "import numpy as np\n",
    "import matplotlib.pyplot as plt\n",
    "\n",
    "def hist_normalization(img, a=0, b=255):\n",
    "    c = img.min()\n",
    "    d = img.max()\n",
    "\n",
    "    out = img.copy()\n",
    "\n",
    "    #这里在调试过程中会出现超出范围的情况 所以需要后面两行\n",
    "    #理论计算中是不会超出去的 应该是和浮点计算有关\n",
    "    out = (b-a) / (d-c) * (out - c) + a\n",
    "    out[out < a] = a\n",
    "    out[out > b] = b\n",
    "    out = out.astype(np.uint8)\n",
    "    \n",
    "    return out\n",
    "    \n",
    "img = cv2.imread(\"imori_dark.jpg\").astype(np.float)\n",
    "H, W, C = img.shape\n",
    "\n",
    "# histogram normalization\n",
    "out = hist_normalization(img)\n",
    "\n",
    "# Display histogram\n",
    "plt.hist(out.ravel(), bins=255, rwidth=0.8, range=(0, 255))\n",
    "plt.savefig(\"myanswers/out_21_2.png\")\n",
    "plt.show()\n",
    "\n",
    "cv2.imwrite(\"myanswers/out_21_1.jpg\",out)\n"
   ]
  },
  {
   "cell_type": "code",
   "execution_count": 4,
   "metadata": {},
   "outputs": [
    {
     "name": "stderr",
     "output_type": "stream",
     "text": [
      "/home/zuochenyu/anaconda3/lib/python3.7/site-packages/ipykernel_launcher.py:20: DeprecationWarning: `np.float` is a deprecated alias for the builtin `float`. To silence this warning, use `float` by itself. Doing this will not modify any behavior and is safe. If you specifically wanted the numpy scalar type, use `np.float64` here.\n",
      "Deprecated in NumPy 1.20; for more details and guidance: https://numpy.org/devdocs/release/1.20.0-notes.html#deprecations\n"
     ]
    },
    {
     "data": {
      "image/png": "[encoded data removed]",
      "text/plain": [
       "<Figure size 432x288 with 1 Axes>"
      ]
     },
     "metadata": {
      "needs_background": "light"
     },
     "output_type": "display_data"
    },
    {
     "data": {
      "text/plain": [
       "True"
      ]
     },
     "execution_count": 4,
     "metadata": {},
     "output_type": "execute_result"
    }
   ],
   "source": [
    "#22 直方图操作\n",
    "import cv2\n",
    "import numpy as np\n",
    "import matplotlib.pyplot as plt\n",
    "\n",
    "# 对图像浮点读取之后进行运算，注意处理最大值和最小值出界问题\n",
    "def hist_mani(img, m0=128, s0=52):\n",
    "    out = img.copy()\n",
    "\n",
    "    m = np.mean(img)\n",
    "    s = np.std(img)\n",
    "\n",
    "    out = s0 / s * (out - m) + m0\n",
    "    out[out < 0] = 0\n",
    "    out[out > 255] = 255\n",
    "\n",
    "    out = out.astype(np.uint8)\n",
    "    return out\n",
    "\n",
    "img = cv2.imread(\"imori_dark.jpg\").astype(np.float)\n",
    "\n",
    "out = hist_mani(img)\n",
    "\n",
    "# Display histogram\n",
    "plt.hist(out.ravel(), bins=255, rwidth=0.8, range=(0, 255))\n",
    "plt.savefig(\"myanswers/out_22_2.png\")\n",
    "plt.show()\n",
    "\n",
    "# Save result\n",
    "cv2.imwrite(\"myanswers/out_22_1.jpg\", out) "
   ]
  },
  {
   "cell_type": "code",
   "execution_count": 9,
   "metadata": {},
   "outputs": [
    {
     "name": "stderr",
     "output_type": "stream",
     "text": [
      "/home/zuochenyu/anaconda3/lib/python3.7/site-packages/ipykernel_launcher.py:25: DeprecationWarning: `np.float` is a deprecated alias for the builtin `float`. To silence this warning, use `float` by itself. Doing this will not modify any behavior and is safe. If you specifically wanted the numpy scalar type, use `np.float64` here.\n",
      "Deprecated in NumPy 1.20; for more details and guidance: https://numpy.org/devdocs/release/1.20.0-notes.html#deprecations\n"
     ]
    },
    {
     "data": {
      "image/png": "[encoded data removed]",
      "text/plain": [
       "<Figure size 432x288 with 1 Axes>"
      ]
     },
     "metadata": {
      "needs_background": "light"
     },
     "output_type": "display_data"
    },
    {
     "data": {
      "text/plain": [
       "True"
      ]
     },
     "execution_count": 9,
     "metadata": {},
     "output_type": "execute_result"
    }
   ],
   "source": [
    "#23 直方图均衡化\n",
    "#使直方图变得平坦\n",
    "#累计分布函数：对于离散变量而言，所有小于等于a的值出现概率的和\n",
    "import cv2\n",
    "import numpy as np\n",
    "import matplotlib.pyplot as plt\n",
    "\n",
    "def hist_equalization(img,z_max=255):\n",
    "    H, W, C = img.shape\n",
    "    S = H * W * C * 1.\n",
    "\n",
    "    out = img.copy()\n",
    "    sum_h = 0.\n",
    "\n",
    "    for i in range(1,z_max):\n",
    "        ind = np.where(img == i)\n",
    "        sum_h += len(img[ind])\n",
    "        z_prime = z_max / S * sum_h\n",
    "        out[ind] = z_prime\n",
    "    \n",
    "    out = out.astype(np.uint8)\n",
    "\n",
    "    return out\n",
    "    \n",
    "img = cv2.imread(\"imori_dark.jpg\").astype(np.float)\n",
    "\n",
    "\n",
    "# histogram normalization\n",
    "out = hist_equalization(img)\n",
    "\n",
    "# Display histogram\n",
    "plt.hist(out.ravel(), bins=255, rwidth=0.8, range=(0, 255))\n",
    "plt.savefig(\"myanswers/out_23_2.png\")\n",
    "plt.show()\n",
    "\n",
    "cv2.imwrite(\"myanswers/out_23_1.jpg\",out)\n"
   ]
  },
  {
   "cell_type": "code",
   "execution_count": 11,
   "metadata": {},
   "outputs": [
    {
     "name": "stderr",
     "output_type": "stream",
     "text": [
      "/home/zuochenyu/anaconda3/lib/python3.7/site-packages/ipykernel_launcher.py:19: DeprecationWarning: `np.float` is a deprecated alias for the builtin `float`. To silence this warning, use `float` by itself. Doing this will not modify any behavior and is safe. If you specifically wanted the numpy scalar type, use `np.float64` here.\n",
      "Deprecated in NumPy 1.20; for more details and guidance: https://numpy.org/devdocs/release/1.20.0-notes.html#deprecations\n"
     ]
    },
    {
     "data": {
      "text/plain": [
       "True"
      ]
     },
     "execution_count": 11,
     "metadata": {},
     "output_type": "execute_result"
    }
   ],
   "source": [
    "# 24 伽马矫正\n",
    "# 预先增大RGB的值来排除显示器的影响，修正图像\n",
    "import cv2\n",
    "import numpy as np\n",
    "import matplotlib.pyplot as plt\n",
    "\n",
    "def gamma_correction(img, c=1, g=2.2):\n",
    "    out = img.copy()\n",
    "    out /= 255.\n",
    "\n",
    "    out = (1/c)*(out**(1/g))\n",
    "\n",
    "    out *= 255\n",
    "    out = out.astype(np.uint8)\n",
    "\n",
    "    return out\n",
    "\n",
    "# Read image\n",
    "img = cv2.imread(\"imori_gamma.jpg\").astype(np.float)\n",
    "\n",
    "# Gammma correction\n",
    "out = gamma_correction(img, c=1, g=2.2)\n",
    "\n",
    "cv2.imwrite(\"myanswers/out_24.jpg\", out)"
   ]
  },
  {
   "cell_type": "code",
   "execution_count": 2,
   "metadata": {},
   "outputs": [
    {
     "name": "stderr",
     "output_type": "stream",
     "text": [
      "/home/zuochenyu/anaconda3/lib/python3.7/site-packages/ipykernel_launcher.py:24: DeprecationWarning: `np.float` is a deprecated alias for the builtin `float`. To silence this warning, use `float` by itself. Doing this will not modify any behavior and is safe. If you specifically wanted the numpy scalar type, use `np.float64` here.\n",
      "Deprecated in NumPy 1.20; for more details and guidance: https://numpy.org/devdocs/release/1.20.0-notes.html#deprecations\n",
      "/home/zuochenyu/anaconda3/lib/python3.7/site-packages/ipykernel_launcher.py:17: DeprecationWarning: `np.int` is a deprecated alias for the builtin `int`. To silence this warning, use `int` by itself. Doing this will not modify any behavior and is safe. When replacing `np.int`, you may wish to use e.g. `np.int64` or `np.int32` to specify the precision. If you wish to review your current use, check the release note link for additional information.\n",
      "Deprecated in NumPy 1.20; for more details and guidance: https://numpy.org/devdocs/release/1.20.0-notes.html#deprecations\n",
      "/home/zuochenyu/anaconda3/lib/python3.7/site-packages/ipykernel_launcher.py:18: DeprecationWarning: `np.int` is a deprecated alias for the builtin `int`. To silence this warning, use `int` by itself. Doing this will not modify any behavior and is safe. When replacing `np.int`, you may wish to use e.g. `np.int64` or `np.int32` to specify the precision. If you wish to review your current use, check the release note link for additional information.\n",
      "Deprecated in NumPy 1.20; for more details and guidance: https://numpy.org/devdocs/release/1.20.0-notes.html#deprecations\n"
     ]
    },
    {
     "data": {
      "text/plain": [
       "True"
      ]
     },
     "execution_count": 2,
     "metadata": {},
     "output_type": "execute_result"
    }
   ],
   "source": [
    "# 25 最近邻插值\n",
    "# 放大图像，补充像素取最临近\n",
    "import cv2\n",
    "import numpy as np\n",
    "import matplotlib.pyplot as plt\n",
    "\n",
    "def nn_interpolate(img, ax=1, ay=1):\n",
    "    H,W,_ = img.shape\n",
    "\n",
    "    aH = int(ay * H)\n",
    "    aW = int(ax * W)\n",
    "\n",
    "    y = np.arange(aH).repeat(aW).reshape(aW,-1) #横坐标为W，纵坐标为H\n",
    "    # np.tile将原矩阵横向、纵向复制\n",
    "    x = np.tile(np.arange(aW), (aH, 1))\n",
    "    # x = np.arange(aW).repeat(aH).reshape(aH, -1)#横坐标为H，纵坐标为W\n",
    "    y = np.round(y / ay).astype(np.int)\n",
    "    x = np.round(x / ax).astype(np.int)\n",
    "\n",
    "    out = img[y, x]\n",
    "    out = out.astype(np.uint8)\n",
    "    return out\n",
    "\n",
    "img = cv2.imread(\"imori.jpg\").astype(np.float)\n",
    "\n",
    "# Nearest Neighbor\n",
    "out = nn_interpolate(img, ax=1.5, ay=1.5)\n",
    "\n",
    "# Save result\n",
    "cv2.imwrite(\"myanswers/out_25.jpg\", out)"
   ]
  },
  {
   "cell_type": "code",
   "execution_count": null,
   "metadata": {},
   "outputs": [],
   "source": [
    "# 26 双线性插值"
   ]
  },
  {
   "cell_type": "code",
   "execution_count": null,
   "metadata": {},
   "outputs": [],
   "source": [
    "# 27 双三次插值"
   ]
  },
  {
   "cell_type": "code",
   "execution_count": null,
   "metadata": {},
   "outputs": [],
   "source": [
    "# 28 仿射变换"
   ]
  }
 ],
 "metadata": {
  "interpreter": {
   "hash": "0534df05fd8895074176b92003b5dc23ce8b16c8c8ea8799f0825d1cf0f20aa9"
  },
  "kernelspec": {
   "display_name": "Python 3.7.2 64-bit ('base': conda)",
   "language": "python",
   "name": "python3"
  },
  "language_info": {
   "codemirror_mode": {
    "name": "ipython",
    "version": 3
   },
   "file_extension": ".py",
   "mimetype": "text/x-python",
   "name": "python",
   "nbconvert_exporter": "python",
   "pygments_lexer": "ipython3",
   "version": "3.7.2"
  },
  "orig_nbformat": 4
 },
 "nbformat": 4,
 "nbformat_minor": 2
}

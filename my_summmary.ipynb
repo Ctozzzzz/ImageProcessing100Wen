{
 "cells": [
  {
   "cell_type": "markdown",
   "metadata": {},
   "source": [
    "Q1 ~ Q8 : 基本操作\n",
    "1. 内容\n",
    "    1.包括通道变换、颜色处理（灰度图像、二值化、HSV变换、减色处理）、池化（平均池化、最大池化）\n",
    "2. 笔记\n",
    "    1. 二值化：最大类间方差法，自动确定二值化阈值\n",
    "    2. HSV：色相（颜色用°区分）、饱和度（越低颜色越暗淡）、明亮度（越高越接近白色）\n",
    "    3. 减色处理： 色彩量化\n",
    "    4. np.zeros & np.zeros_like:\n",
    "         1. np.zeros以输入的数值为大小返回array，np.zeros_like返回与输入array大小一样的array\n",
    "         2. zeros uses **memset**; zeros_like seems to effectively do a fill which does a ton of nonsense.\n",
    "         3. memset 的作用是在一段内存块中填充某个给定的值\n",
    "    5. np.where:\n",
    "        np.where(condition)输出满足条件元素的坐标\n",
    "        np.where(condition,x,y)满足条件输出x，否则输出y\n"
   ]
  },
  {
   "cell_type": "markdown",
   "metadata": {},
   "source": [
    "Q9 ~ Q19 : 滤波器\n",
    "1. 内容\n",
    "    1. Gaussian filter     : 注意zero padding；卷积核归一化\n",
    "    2. Median filter       : 取中值\n",
    "    3. Mean filter         ：取均值\n",
    "    4. Motion filter       : 对角线元素的平均值\n",
    "    5. Max-Min filter      : 使用网格内元素的最大值&最小值的差值对网格内像素重新赋值\n",
    "    (下面的filter 更换卷积核)\n",
    "    6. Differential filter : 对图像亮度急剧变化的边缘有提取效果，可以获得邻接像素的差值\n",
    "    7. Sobel filter        : 可以提取特定方向（纵向或横向）的边缘\n",
    "    8. Prewitt filter      : 边缘检测\n",
    "    9. Laplacian filter    : 对图像亮度进行二次微分从而检测边缘的滤波器\n",
    "    10. Emboss filter       : 使物体轮廓更加清晰\n",
    "    11. LoG filter          : 使用高斯滤波器使图像平滑化之后再使用拉普拉斯滤波器使图像的轮廓更加清晰\n",
    "  \n",
    "\n",
    "2. 笔记\n",
    "   1. np.clip操作是否需要，根据是否对图片进行运算来判断；比如说浮点卷积之后可能会超出边界，需要clip\n",
    "   2. np.expand_dims : 在第axis维加一个维度，原有的维度推到右边去\n",
    "   3. 滤波器 与 卷积核 之间的联系：\n",
    "      1. 若2* 2 即为卷积核（二维称之为卷积核）；若5* 5* 3 即为滤波器（三维及以多通道称之为多个卷积核的滤波器，一个滤波器下的多个卷积核可能各不相同）\n",
    "      2. 对于边缘滤波，卷积核在边缘部分取值；横向纵向分开取\n"
   ]
  }
 ],
 "metadata": {
  "interpreter": {
   "hash": "0534df05fd8895074176b92003b5dc23ce8b16c8c8ea8799f0825d1cf0f20aa9"
  },
  "kernelspec": {
   "display_name": "Python 3.7.2 64-bit ('base': conda)",
   "language": "python",
   "name": "python3"
  },
  "language_info": {
   "name": "python",
   "version": "3.7.2"
  },
  "orig_nbformat": 4
 },
 "nbformat": 4,
 "nbformat_minor": 2
}
